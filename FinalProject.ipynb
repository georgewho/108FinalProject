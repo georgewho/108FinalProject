{
 "cells": [
  {
   "cell_type": "markdown",
   "metadata": {},
   "source": [
    "# COGS 108 - Final Project "
   ]
  },
  {
   "cell_type": "markdown",
   "metadata": {},
   "source": [
    "# Overview"
   ]
  },
  {
   "cell_type": "markdown",
   "metadata": {},
   "source": [
    "*Fill in your overview here*"
   ]
  },
  {
   "cell_type": "markdown",
   "metadata": {},
   "source": [
    "# Names\n",
    "\n",
    "- George\n",
    "- Ryan\n",
    "- Sonny\n",
    "- Yong"
   ]
  },
  {
   "cell_type": "raw",
   "metadata": {},
   "source": [
    "# Group Members IDs\n",
    "\n",
    "- George Hu - A13679845\n",
    "- Ryan Shim - A12820194\n",
    "- A########\n",
    "- A########"
   ]
  },
  {
   "cell_type": "markdown",
   "metadata": {},
   "source": [
    "# Research Question"
   ]
  },
  {
   "cell_type": "markdown",
   "metadata": {},
   "source": [
    "*Fill in your research question here*"
   ]
  },
  {
   "cell_type": "markdown",
   "metadata": {},
   "source": [
    "## Background and Prior Work"
   ]
  },
  {
   "cell_type": "markdown",
   "metadata": {},
   "source": [
    "*Fill in your background and prior work here* \n",
    "\n",
    "References (include links):\n",
    "- 1)\n",
    "- 2)"
   ]
  },
  {
   "cell_type": "markdown",
   "metadata": {},
   "source": [
    "# Hypothesis\n"
   ]
  },
  {
   "cell_type": "markdown",
   "metadata": {},
   "source": [
    "*Fill in your hypotheses here*"
   ]
  },
  {
   "cell_type": "markdown",
   "metadata": {},
   "source": [
    "# Dataset(s)"
   ]
  },
  {
   "cell_type": "markdown",
   "metadata": {},
   "source": [
    "*Fill in your dataset information here*\n",
    "\n",
    "(Copy this information for each dataset)\n",
    "- Dataset Name: NBA Players\n",
    "- Link to the dataset: https://www.kaggle.com/drgilermo/nba-players-stats\n",
    "- Number of observations: 3922 rows x 8 columns for players\n",
    "\n",
    "1-2 sentences describing each dataset. \n",
    "\n",
    "This dataset records all the players that have played in the NBA from the 1950 to 2017 seasons.\n",
    "\n",
    "- Dataset Name: NBA Seasonal Player stats\n",
    "- Link to the dataset: https://www.kaggle.com/drgilermo/nba-players-stats\n",
    "- Number of observations: 24691 rows × 53 columns for seasons\n",
    "\n",
    "1-2 sentences describing each dataset. \n",
    "\n",
    "This dataset records all the players' seasonal stats per year starting from 1950 to 2017.\n",
    "\n",
    "If you plan to use multiple datasets, add 1-2 sentences about how you plan to combine these datasets.\n",
    "\n",
    "We intend to use the player weight/height columns from the players dataframe and merge it into the seasonal stats dataframe in order to be able to access weights/heights of the entire NBA per season."
   ]
  },
  {
   "cell_type": "markdown",
   "metadata": {},
   "source": [
    "# Setup"
   ]
  },
  {
   "cell_type": "code",
   "execution_count": 10,
   "metadata": {},
   "outputs": [],
   "source": [
    "## YOUR CODE HERE\n",
    "import pandas as pd\n",
    "import numpy as np\n",
    "import matplotlib.pyplot as plt\n",
    "from matplotlib import animation"
   ]
  },
  {
   "cell_type": "markdown",
   "metadata": {},
   "source": [
    "# Data Cleaning"
   ]
  },
  {
   "cell_type": "markdown",
   "metadata": {},
   "source": [
    "Describe your data cleaning steps here.\n",
    "\n",
    "We took our data from https://www.kaggle.com/drgilermo/nba-players-stats and combined the two CSVs in player_data.csv and Season_Stats.csv in order to make our dataframe."
   ]
  },
  {
   "cell_type": "code",
   "execution_count": 25,
   "metadata": {},
   "outputs": [],
   "source": [
    "## YOUR CODE HERE\n",
    "## FEEL FREE TO ADD MULTIPLE CELLS PER SECTION\n",
    "players = pd.read_csv('Players.csv')\n",
    "seasons = pd.read_csv('Seasons_Stats.csv')\n",
    "\n",
    "# These lines drops all the rows of players and seasons where the Player name is null\n",
    "players = players[pd.isnull(players.Player) == 0]\n",
    "seasons = seasons[pd.isnull(seasons.Player) == 0]\n",
    "\n",
    "# These lines add the player's heights and weights to the seasonal data\n",
    "seasons['height'] = seasons.Player.apply(lambda x: players.height[players.Player == x].values[0])\n",
    "seasons['weight'] = seasons.Player.apply(lambda x: players.weight[players.Player == x].values[0])"
   ]
  },
  {
   "cell_type": "code",
   "execution_count": 26,
   "metadata": {},
   "outputs": [
    {
     "name": "stdout",
     "output_type": "stream",
     "text": [
      "0        180.0\n",
      "1        188.0\n",
      "2        193.0\n",
      "3        196.0\n",
      "4        196.0\n",
      "5        196.0\n",
      "6        178.0\n",
      "7        180.0\n",
      "8        196.0\n",
      "9        196.0\n",
      "10       196.0\n",
      "11       183.0\n",
      "12       196.0\n",
      "13       196.0\n",
      "14       193.0\n",
      "15       208.0\n",
      "16       190.0\n",
      "17       196.0\n",
      "18       196.0\n",
      "19       185.0\n",
      "20       193.0\n",
      "21       193.0\n",
      "22       208.0\n",
      "23       196.0\n",
      "24       190.0\n",
      "25       190.0\n",
      "26       190.0\n",
      "27       183.0\n",
      "28       196.0\n",
      "29       193.0\n",
      "         ...  \n",
      "24661    190.0\n",
      "24662    190.0\n",
      "24663    190.0\n",
      "24664    190.0\n",
      "24665    190.0\n",
      "24666    190.0\n",
      "24667    206.0\n",
      "24668    206.0\n",
      "24669    206.0\n",
      "24670    185.0\n",
      "24671    201.0\n",
      "24672    198.0\n",
      "24673    198.0\n",
      "24674    198.0\n",
      "24675    208.0\n",
      "24676    201.0\n",
      "24677    213.0\n",
      "24678    211.0\n",
      "24679    190.0\n",
      "24680    211.0\n",
      "24681    196.0\n",
      "24682    198.0\n",
      "24683    188.0\n",
      "24684    201.0\n",
      "24685    203.0\n",
      "24686    213.0\n",
      "24687    213.0\n",
      "24688    213.0\n",
      "24689    203.0\n",
      "24690    216.0\n",
      "Name: height, Length: 24624, dtype: float64\n",
      "0         77.0\n",
      "1         83.0\n",
      "2         86.0\n",
      "3         88.0\n",
      "4         88.0\n",
      "5         88.0\n",
      "6         79.0\n",
      "7         79.0\n",
      "8         90.0\n",
      "9         90.0\n",
      "10        90.0\n",
      "11        77.0\n",
      "12        90.0\n",
      "13        95.0\n",
      "14        95.0\n",
      "15       102.0\n",
      "16        79.0\n",
      "17        97.0\n",
      "18        81.0\n",
      "19        81.0\n",
      "20        83.0\n",
      "21        92.0\n",
      "22       106.0\n",
      "23        99.0\n",
      "24        86.0\n",
      "25        79.0\n",
      "26        81.0\n",
      "27        77.0\n",
      "28        90.0\n",
      "29        88.0\n",
      "         ...  \n",
      "24661     90.0\n",
      "24662     90.0\n",
      "24663     90.0\n",
      "24664     90.0\n",
      "24665     90.0\n",
      "24666     90.0\n",
      "24667     90.0\n",
      "24668     90.0\n",
      "24669     90.0\n",
      "24670     89.0\n",
      "24671     86.0\n",
      "24672     97.0\n",
      "24673     97.0\n",
      "24674     97.0\n",
      "24675    108.0\n",
      "24676    102.0\n",
      "24677    104.0\n",
      "24678     99.0\n",
      "24679     81.0\n",
      "24680    102.0\n",
      "24681     83.0\n",
      "24682     97.0\n",
      "24683     81.0\n",
      "24684     95.0\n",
      "24685    100.0\n",
      "24686    108.0\n",
      "24687    114.0\n",
      "24688    108.0\n",
      "24689     97.0\n",
      "24690    120.0\n",
      "Name: weight, Length: 24624, dtype: float64\n"
     ]
    }
   ],
   "source": [
    "# This is in a separate cell so that seasons don't have to be loaded multiple times\n",
    "print(seasons['height'])\n",
    "print(seasons['weight'])"
   ]
  },
  {
   "cell_type": "markdown",
   "metadata": {},
   "source": [
    "# Data Analysis & Results"
   ]
  },
  {
   "cell_type": "markdown",
   "metadata": {},
   "source": [
    "Include cells that describe the steps in your data analysis."
   ]
  },
  {
   "cell_type": "code",
   "execution_count": 5,
   "metadata": {},
   "outputs": [],
   "source": [
    "## YOUR CODE HERE\n",
    "## FEEL FREE TO ADD MULTIPLE CELLS PER SECTION"
   ]
  },
  {
   "cell_type": "markdown",
   "metadata": {},
   "source": [
    "# Ethics & Privacy"
   ]
  },
  {
   "cell_type": "markdown",
   "metadata": {},
   "source": [
    "*Fill in your ethics & privacy discussion here*"
   ]
  },
  {
   "cell_type": "markdown",
   "metadata": {},
   "source": [
    "# Conclusion & Discussion"
   ]
  },
  {
   "cell_type": "markdown",
   "metadata": {},
   "source": [
    "*Fill in your discussion information here*"
   ]
  }
 ],
 "metadata": {
  "kernelspec": {
   "display_name": "Python 3",
   "language": "python",
   "name": "python3"
  },
  "language_info": {
   "codemirror_mode": {
    "name": "ipython",
    "version": 3
   },
   "file_extension": ".py",
   "mimetype": "text/x-python",
   "name": "python",
   "nbconvert_exporter": "python",
   "pygments_lexer": "ipython3",
   "version": "3.7.3"
  }
 },
 "nbformat": 4,
 "nbformat_minor": 2
}
